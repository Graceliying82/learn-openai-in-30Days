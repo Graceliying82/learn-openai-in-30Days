{
 "cells": [
  {
   "cell_type": "code",
   "execution_count": 1,
   "id": "1b1b2e10",
   "metadata": {},
   "outputs": [],
   "source": [
    "import os\n",
    "from dotenv import load_dotenv\n",
    "load_dotenv()\n",
    "import openai\n",
    "openai.api_key = os.getenv(\"OPENAI_API_KEY\")"
   ]
  },
  {
   "cell_type": "code",
   "execution_count": 6,
   "id": "74e892d5",
   "metadata": {},
   "outputs": [],
   "source": [
    "def create_dish_prompt(list_of_ingredients):\n",
    "    prompt =f\"Create a detailed recipe based on only the following ingredients: {', '.join(list_of_ingredients)}. \\n\"\\\n",
    "        +f\"Additionally, assign a title staring with 'Recipe Title: 'to this recipe\"\n",
    "    return prompt"
   ]
  },
  {
   "cell_type": "code",
   "execution_count": 8,
   "id": "a73b04a1",
   "metadata": {},
   "outputs": [],
   "source": [
    "recipe = create_dish_prompt(['ham', 'turkey', 'eggs','bread'])"
   ]
  },
  {
   "cell_type": "code",
   "execution_count": 9,
   "id": "7dd5577b",
   "metadata": {},
   "outputs": [],
   "source": [
    "response = openai.Completion.create(engine = 'text-davinci-003',\n",
    "                                    prompt = recipe, \n",
    "                                    max_tokens = 512,\n",
    "                                    temperature  = 0.7)"
   ]
  },
  {
   "cell_type": "code",
   "execution_count": 11,
   "id": "888b2e11",
   "metadata": {},
   "outputs": [],
   "source": [
    "result_text = response['choices'][0]['text']"
   ]
  },
  {
   "cell_type": "code",
   "execution_count": 12,
   "id": "4da2a96f",
   "metadata": {},
   "outputs": [],
   "source": [
    "import re"
   ]
  },
  {
   "cell_type": "code",
   "execution_count": 39,
   "id": "51e5e604",
   "metadata": {},
   "outputs": [],
   "source": [
    "def extract_title(recipe):\n",
    "    return re.findall('^.*Recipe Title: .*$', recipe, re.MULTILINE)[0].strip().split(\"Recipe Title: \")[1]"
   ]
  },
  {
   "cell_type": "code",
   "execution_count": 40,
   "id": "9858a352",
   "metadata": {},
   "outputs": [
    {
     "name": "stdout",
     "output_type": "stream",
     "text": [
      "Ham and Turkey Breakfast Sandwich\n"
     ]
    }
   ],
   "source": [
    "print(extract_title(result_text))"
   ]
  },
  {
   "cell_type": "code",
   "execution_count": 43,
   "id": "8297b2aa",
   "metadata": {},
   "outputs": [],
   "source": [
    "image_response = openai.Image.create(\n",
    "                  prompt = extract_title(result_text),\n",
    "                  n = 1,\n",
    "                  size = '1024x1024'\n",
    ")"
   ]
  },
  {
   "cell_type": "code",
   "execution_count": 52,
   "id": "3ef3b1a0",
   "metadata": {},
   "outputs": [],
   "source": [
    "image_url = image_response['data'][0]['url']"
   ]
  },
  {
   "cell_type": "code",
   "execution_count": 57,
   "id": "da3a761e",
   "metadata": {},
   "outputs": [],
   "source": [
    "import requests\n",
    "import shutil\n",
    "def  save_image(image_url, file_name):\n",
    "    image_res = requests.get(image_url, stream = True)\n",
    "    if image_res.status_code == 200:\n",
    "        with open(file_name, 'wb') as f:\n",
    "            shutil.copyfileobj(image_res.raw, f)\n",
    "    else: \n",
    "        print('Error Loading Image')\n",
    "    return image_res.status_code"
   ]
  },
  {
   "cell_type": "code",
   "execution_count": 58,
   "id": "89545d16",
   "metadata": {},
   "outputs": [
    {
     "data": {
      "text/plain": [
       "200"
      ]
     },
     "execution_count": 58,
     "metadata": {},
     "output_type": "execute_result"
    }
   ],
   "source": [
    "save_image(image_url, 'example_download.png')"
   ]
  },
  {
   "cell_type": "code",
   "execution_count": 70,
   "id": "3a8a50cd",
   "metadata": {},
   "outputs": [],
   "source": [
    "# Doing this just for fun\n",
    "another_image_response = openai.Image.create(\n",
    "                  prompt = 'a photo of disapproving corgi with sword in hand feeling pround',\n",
    "                  n = 1,\n",
    "                  size = '1024x1024'\n",
    ")"
   ]
  },
  {
   "cell_type": "code",
   "execution_count": 71,
   "id": "7f55f2ae",
   "metadata": {},
   "outputs": [],
   "source": [
    "another_image_url = another_image_response['data'][0]['url']"
   ]
  },
  {
   "cell_type": "code",
   "execution_count": 72,
   "id": "2b45ff40",
   "metadata": {},
   "outputs": [
    {
     "data": {
      "text/plain": [
       "200"
      ]
     },
     "execution_count": 72,
     "metadata": {},
     "output_type": "execute_result"
    }
   ],
   "source": [
    "save_image(another_image_url, 'pround_corgi.png')"
   ]
  },
  {
   "cell_type": "code",
   "execution_count": null,
   "id": "635b289b",
   "metadata": {},
   "outputs": [],
   "source": []
  }
 ],
 "metadata": {
  "kernelspec": {
   "display_name": "Python 3 (ipykernel)",
   "language": "python",
   "name": "python3"
  },
  "language_info": {
   "codemirror_mode": {
    "name": "ipython",
    "version": 3
   },
   "file_extension": ".py",
   "mimetype": "text/x-python",
   "name": "python",
   "nbconvert_exporter": "python",
   "pygments_lexer": "ipython3",
   "version": "3.11.3"
  }
 },
 "nbformat": 4,
 "nbformat_minor": 5
}
