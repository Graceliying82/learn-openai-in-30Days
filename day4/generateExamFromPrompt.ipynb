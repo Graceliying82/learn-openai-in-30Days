{
 "cells": [
  {
   "cell_type": "code",
   "execution_count": 1,
   "id": "c5dc2f11",
   "metadata": {},
   "outputs": [],
   "source": [
    "import os\n",
    "from dotenv import load_dotenv\n",
    "load_dotenv()\n",
    "import openai\n",
    "openai.api_key = os.getenv(\"OPENAI_API_KEY\")"
   ]
  },
  {
   "cell_type": "code",
   "execution_count": 4,
   "id": "328e6d2b",
   "metadata": {},
   "outputs": [
    {
     "name": "stdout",
     "output_type": "stream",
     "text": [
      "Create a multiple choice quiz on the topic of topicA consisting of 2 Each question should have 3 options. Also include the correct answer for each question using the starting string 'Correct Answer:'\n"
     ]
    }
   ],
   "source": [
    "def create_test_prompt(topic, num_questions, num_possible_answers):\n",
    "    prompt = f\"Create a multiple choice quiz on the topic of {topic} consisting of {num_questions} \"\\\n",
    "            +f\"Each question should have {num_possible_answers} options. \"\\\n",
    "            +f\"Also include the correct answer for each question using the starting string 'Correct Answer:'\"\n",
    "    return prompt\n",
    "\n",
    "print(create_test_prompt(\"topicA\", 2, 3))"
   ]
  },
  {
   "cell_type": "code",
   "execution_count": 5,
   "id": "3fe18e79",
   "metadata": {},
   "outputs": [
    {
     "name": "stdout",
     "output_type": "stream",
     "text": [
      "Create a multiple choice quiz on the topic of Python consisting of 4 Each question should have 4 options. Also include the correct answer for each question using the starting string 'Correct Answer:'\n"
     ]
    }
   ],
   "source": [
    "print(create_test_prompt(\"Python\", 4, 4))"
   ]
  },
  {
   "cell_type": "code",
   "execution_count": 10,
   "id": "634e7dd5",
   "metadata": {},
   "outputs": [],
   "source": [
    "response = openai.Completion.create(engine='text-davinci-003',\n",
    "                                    prompt = create_test_prompt('US History', 4, 4),\n",
    "                                    max_tokens = 256,\n",
    "                                    temperature = 0.7\n",
    "                                   )"
   ]
  },
  {
   "cell_type": "code",
   "execution_count": 14,
   "id": "55b09e4f",
   "metadata": {},
   "outputs": [
    {
     "data": {
      "text/plain": [
       "'\\n\\nQ1: When was the Declaration of Independence signed?\\nA. 1776\\nB. 1775\\nC. 1777\\nD. 1778\\nCorrect Answer: A. 1776\\n\\nQ2: Who was the first president of the United States?\\nA. George Washington\\nB. John Adams\\nC. Thomas Jefferson\\nD. James Madison\\nCorrect Answer: A. George Washington\\n\\nQ3: Who wrote the Federalist Papers?\\nA. Thomas Jefferson\\nB. James Madison\\nC. Alexander Hamilton\\nD. John Adams\\nCorrect Answer: C. Alexander Hamilton\\n\\nQ4: Which amendment gave women the right to vote?\\nA. 14th Amendment\\nB. 15th Amendment\\nC. 16th Amendment\\nD. 19th Amendment\\nCorrect Answer: D. 19th Amendment'"
      ]
     },
     "execution_count": 14,
     "metadata": {},
     "output_type": "execute_result"
    }
   ],
   "source": [
    "response['choices'][0]['text']"
   ]
  },
  {
   "cell_type": "code",
   "execution_count": 28,
   "id": "96d9b36e",
   "metadata": {},
   "outputs": [],
   "source": [
    "def create_student_view(test, num_questions):\n",
    "    student_view = {1: ''}\n",
    "    question_number = 1\n",
    "    for line in test.split(\"\\n\"):\n",
    "        if not line.startswith(\"Correct Answer:\"):\n",
    "            student_view[question_number] += line+'\\n'\n",
    "        else:\n",
    "            if question_number <  num_questions:\n",
    "                question_number +=1\n",
    "                student_view[question_number] = ''\n",
    "    return student_view"
   ]
  },
  {
   "cell_type": "code",
   "execution_count": 30,
   "id": "cf048a28",
   "metadata": {},
   "outputs": [],
   "source": [
    "student_view = create_student_view(response['choices'][0]['text'], 4)"
   ]
  },
  {
   "cell_type": "code",
   "execution_count": 31,
   "id": "0e9dec89",
   "metadata": {},
   "outputs": [
    {
     "name": "stdout",
     "output_type": "stream",
     "text": [
      "\n",
      "\n",
      "Q1: When was the Declaration of Independence signed?\n",
      "A. 1776\n",
      "B. 1775\n",
      "C. 1777\n",
      "D. 1778\n",
      "\n"
     ]
    }
   ],
   "source": [
    "print(student_view.get(1))"
   ]
  },
  {
   "cell_type": "code",
   "execution_count": 47,
   "id": "30e2bdf5",
   "metadata": {},
   "outputs": [],
   "source": [
    "def extract_answer(test, num_questions):\n",
    "    answers = {1: ''}\n",
    "    question_number = 1\n",
    "    for line in test.split(\"\\n\"):\n",
    "        if line.startswith(\"Correct Answer:\"):\n",
    "            answers[question_number] += line+'\\n'\n",
    "            if question_number < num_questions:\n",
    "                 question_number +=1\n",
    "                 answers[question_number] = ''\n",
    "    return answers"
   ]
  },
  {
   "cell_type": "code",
   "execution_count": 50,
   "id": "5ff65e90",
   "metadata": {},
   "outputs": [],
   "source": [
    "answers = extract_answer(response['choices'][0]['text'], 4)"
   ]
  },
  {
   "cell_type": "code",
   "execution_count": 42,
   "id": "83f084da",
   "metadata": {},
   "outputs": [],
   "source": [
    "# Take The Exam\n",
    "def take(student_view):\n",
    "    student_answers = {}\n",
    "    for question, question_view in student_view.items():\n",
    "        print (question_view)\n",
    "        answer = input(\"Enter your answer: \")\n",
    "        student_answers[question] = answer\n",
    "    return student_answers"
   ]
  },
  {
   "cell_type": "code",
   "execution_count": 43,
   "id": "3e939e48",
   "metadata": {},
   "outputs": [
    {
     "name": "stdout",
     "output_type": "stream",
     "text": [
      "\n",
      "\n",
      "Q1: When was the Declaration of Independence signed?\n",
      "A. 1776\n",
      "B. 1775\n",
      "C. 1777\n",
      "D. 1778\n",
      "\n",
      "Enter your answer: A\n",
      "\n",
      "Q2: Who was the first president of the United States?\n",
      "A. George Washington\n",
      "B. John Adams\n",
      "C. Thomas Jefferson\n",
      "D. James Madison\n",
      "\n",
      "Enter your answer: B\n",
      "\n",
      "Q3: Who wrote the Federalist Papers?\n",
      "A. Thomas Jefferson\n",
      "B. James Madison\n",
      "C. Alexander Hamilton\n",
      "D. John Adams\n",
      "\n",
      "Enter your answer: C\n",
      "\n",
      "Q4: Which amendment gave women the right to vote?\n",
      "A. 14th Amendment\n",
      "B. 15th Amendment\n",
      "C. 16th Amendment\n",
      "D. 19th Amendment\n",
      "\n",
      "Enter your answer: D\n"
     ]
    }
   ],
   "source": [
    "student_answers = take(student_view)"
   ]
  },
  {
   "cell_type": "code",
   "execution_count": 44,
   "id": "73f512d2",
   "metadata": {},
   "outputs": [
    {
     "data": {
      "text/plain": [
       "{1: 'A', 2: 'B', 3: 'C', 4: 'D'}"
      ]
     },
     "execution_count": 44,
     "metadata": {},
     "output_type": "execute_result"
    }
   ],
   "source": [
    "student_answers"
   ]
  },
  {
   "cell_type": "code",
   "execution_count": 51,
   "id": "3fec508f",
   "metadata": {},
   "outputs": [
    {
     "data": {
      "text/plain": [
       "{1: 'Correct Answer: A. 1776\\n',\n",
       " 2: 'Correct Answer: A. George Washington\\n',\n",
       " 3: 'Correct Answer: C. Alexander Hamilton\\n',\n",
       " 4: 'Correct Answer: D. 19th Amendment\\n'}"
      ]
     },
     "execution_count": 51,
     "metadata": {},
     "output_type": "execute_result"
    }
   ],
   "source": [
    "answers"
   ]
  },
  {
   "cell_type": "code",
   "execution_count": 57,
   "id": "384b01d0",
   "metadata": {},
   "outputs": [],
   "source": [
    "def grade(correct_answer_dict, student_answers):\n",
    "    correct_answers = 0\n",
    "    for question, answer in student_answers.items():\n",
    "        if answer.upper() == correct_answer_dict[question][16]:\n",
    "            correct_answers +=1\n",
    "    grade = 100*correct_answers / len(answers)\n",
    "    \n",
    "    if grade < 60 :\n",
    "        passed = \"NO PASS\"\n",
    "    else:\n",
    "        passed = \"PASS\"\n",
    "    \n",
    "    return F\"{correct_answers}/{len(answers)} correct! You got {grade} grade, {passed}\""
   ]
  },
  {
   "cell_type": "code",
   "execution_count": 58,
   "id": "568e83ee",
   "metadata": {},
   "outputs": [
    {
     "data": {
      "text/plain": [
       "'3/4 correct! You got 75.0 grade, PASS'"
      ]
     },
     "execution_count": 58,
     "metadata": {},
     "output_type": "execute_result"
    }
   ],
   "source": [
    "grade(answers, student_answers)"
   ]
  },
  {
   "cell_type": "code",
   "execution_count": null,
   "id": "cc09a13a",
   "metadata": {},
   "outputs": [],
   "source": []
  }
 ],
 "metadata": {
  "kernelspec": {
   "display_name": "Python 3 (ipykernel)",
   "language": "python",
   "name": "python3"
  },
  "language_info": {
   "codemirror_mode": {
    "name": "ipython",
    "version": 3
   },
   "file_extension": ".py",
   "mimetype": "text/x-python",
   "name": "python",
   "nbconvert_exporter": "python",
   "pygments_lexer": "ipython3",
   "version": "3.11.3"
  }
 },
 "nbformat": 4,
 "nbformat_minor": 5
}
