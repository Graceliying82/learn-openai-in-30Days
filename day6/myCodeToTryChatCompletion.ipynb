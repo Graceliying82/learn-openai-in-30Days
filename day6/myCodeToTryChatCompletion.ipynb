{
 "cells": [
  {
   "cell_type": "code",
   "execution_count": 15,
   "id": "10f14e4f",
   "metadata": {},
   "outputs": [],
   "source": [
    "import os\n",
    "from dotenv import load_dotenv\n",
    "load_dotenv()\n",
    "import openai\n",
    "openai.api_key = os.getenv(\"OPENAI_API_KEY\")"
   ]
  },
  {
   "cell_type": "code",
   "execution_count": 16,
   "id": "ac843245",
   "metadata": {},
   "outputs": [],
   "source": [
    "response = openai.ChatCompletion.create(\n",
    "  model=\"gpt-3.5-turbo\",\n",
    "  messages=[\n",
    "        {\"role\": \"user\", \"content\": \"I need a trainer to teach me English Grammar\"},\n",
    "    ]\n",
    ")"
   ]
  },
  {
   "cell_type": "code",
   "execution_count": 17,
   "id": "87b35688",
   "metadata": {},
   "outputs": [
    {
     "data": {
      "text/plain": [
       "<OpenAIObject chat.completion id=chatcmpl-7KVtjFClnqzQMpcakt4eu5n9xTs65 at 0x1083ace30> JSON: {\n",
       "  \"choices\": [\n",
       "    {\n",
       "      \"finish_reason\": \"stop\",\n",
       "      \"index\": 0,\n",
       "      \"message\": {\n",
       "        \"content\": \"As an AI language model, I can help you in learning English grammar. Here are some tips that can help you:\\n\\n1. Start with the basics - Understanding the basic concepts of English grammar is essential. Start with simple sentences, nouns, pronouns, adjectives, verbs, and adverbs. Learn the different types of sentences and their structures.\\n\\n2. Practice - Practice makes perfect. Use grammar exercises, sentence restructuring tools, and grammar checkers to practice grammar every day. Read books, newspapers, and articles in English to improve your grammar and vocabulary.\\n\\n3. Learn from your mistakes - Mistakes are learning opportunities. Analyze your mistakes and learn from them. Identify your common grammar errors and work on them.\\n\\n4. Get feedback - Get feedback from someone who has a good knowledge of the language. Take help from a friend, a tutor, or an online forum.\\n\\n5. Use online resources - Use reliable online learning resources like websites, videos, and podcasts.\\n\\nI hope my tips will help you in your grammar learning journey. Good luck!\",\n",
       "        \"role\": \"assistant\"\n",
       "      }\n",
       "    }\n",
       "  ],\n",
       "  \"created\": 1685123531,\n",
       "  \"id\": \"chatcmpl-7KVtjFClnqzQMpcakt4eu5n9xTs65\",\n",
       "  \"model\": \"gpt-3.5-turbo-0301\",\n",
       "  \"object\": \"chat.completion\",\n",
       "  \"usage\": {\n",
       "    \"completion_tokens\": 211,\n",
       "    \"prompt_tokens\": 17,\n",
       "    \"total_tokens\": 228\n",
       "  }\n",
       "}"
      ]
     },
     "execution_count": 17,
     "metadata": {},
     "output_type": "execute_result"
    }
   ],
   "source": [
    "response"
   ]
  },
  {
   "cell_type": "code",
   "execution_count": 13,
   "id": "4874945a",
   "metadata": {},
   "outputs": [],
   "source": [
    "res = response['choices'][0]['message']['content']"
   ]
  },
  {
   "cell_type": "code",
   "execution_count": 14,
   "id": "5e43b18c",
   "metadata": {},
   "outputs": [
    {
     "name": "stdout",
     "output_type": "stream",
     "text": [
      "As an AI language model, I can provide online resources and materials to help improve your English grammar skills. Here are some online tools and websites:\n",
      "\n",
      "1. Grammarly: It is a free online writing assistant that checks grammar and spelling errors.\n",
      "\n",
      "2. Duolingo: It is a language learning platform that has a grammar section for beginners to advanced levels.\n",
      "\n",
      "3. English Grammar 101: This website offers free grammar lessons with exercises and quizzes.\n",
      "\n",
      "4. Oxford Online English: This website provides free and paid grammar courses with certified teachers.\n",
      "\n",
      "5. BBC Learning English: This website offers a wide range of grammar lessons with audio and video resources.\n",
      "\n",
      "I hope these resources help you improve your English grammar skills.\n"
     ]
    }
   ],
   "source": [
    "print(res)"
   ]
  },
  {
   "cell_type": "code",
   "execution_count": 19,
   "id": "574326ff",
   "metadata": {},
   "outputs": [],
   "source": [
    "response = openai.ChatCompletion.create(\n",
    "  model=\"gpt-3.5-turbo\",\n",
    "  messages=[\n",
    "        {\"role\": \"user\", \"content\": \"Can you be my assistant and teach me.\"},\n",
    "    ]\n",
    ")"
   ]
  },
  {
   "cell_type": "code",
   "execution_count": 20,
   "id": "8e911bde",
   "metadata": {},
   "outputs": [
    {
     "data": {
      "text/plain": [
       "<OpenAIObject chat.completion id=chatcmpl-7KVqwF7FMc2IeLzfr1B4FS7jAgJIh at 0x10471a690> JSON: {\n",
       "  \"choices\": [\n",
       "    {\n",
       "      \"finish_reason\": \"stop\",\n",
       "      \"index\": 0,\n",
       "      \"message\": {\n",
       "        \"content\": \"Sure, I'd be happy to help. What would you like to know specifically about transportation? Are you wondering about transportation options to the school or for a specific field trip or event?\",\n",
       "        \"role\": \"assistant\"\n",
       "      }\n",
       "    }\n",
       "  ],\n",
       "  \"created\": 1685123358,\n",
       "  \"id\": \"chatcmpl-7KVqwF7FMc2IeLzfr1B4FS7jAgJIh\",\n",
       "  \"model\": \"gpt-3.5-turbo-0301\",\n",
       "  \"object\": \"chat.completion\",\n",
       "  \"usage\": {\n",
       "    \"completion_tokens\": 37,\n",
       "    \"prompt_tokens\": 49,\n",
       "    \"total_tokens\": 86\n",
       "  }\n",
       "}"
      ]
     },
     "execution_count": 20,
     "metadata": {},
     "output_type": "execute_result"
    }
   ],
   "source": [
    "another_response"
   ]
  },
  {
   "cell_type": "code",
   "execution_count": 21,
   "id": "b041cd89",
   "metadata": {},
   "outputs": [],
   "source": [
    "another_res = another_response['choices'][0]['message']['content']"
   ]
  },
  {
   "cell_type": "code",
   "execution_count": 22,
   "id": "3cb24b67",
   "metadata": {},
   "outputs": [
    {
     "name": "stdout",
     "output_type": "stream",
     "text": [
      "Sure, I'd be happy to help. What would you like to know specifically about transportation? Are you wondering about transportation options to the school or for a specific field trip or event?\n"
     ]
    }
   ],
   "source": [
    "print(another_res)"
   ]
  },
  {
   "cell_type": "code",
   "execution_count": 23,
   "id": "43687079",
   "metadata": {},
   "outputs": [],
   "source": [
    "response = openai.ChatCompletion.create(\n",
    "  model=\"gpt-3.5-turbo\",\n",
    "  messages=[\n",
    "        {\"role\": \"system\", \"content\": \"Give the user some options to begin with.\"},\n",
    "    ]\n",
    ")"
   ]
  },
  {
   "cell_type": "code",
   "execution_count": 24,
   "id": "71faaf1f",
   "metadata": {},
   "outputs": [
    {
     "data": {
      "text/plain": [
       "<OpenAIObject chat.completion id=chatcmpl-7KVwREOcjL2a3Q0psscvG461gABrw at 0x1087abad0> JSON: {\n",
       "  \"choices\": [\n",
       "    {\n",
       "      \"finish_reason\": \"stop\",\n",
       "      \"index\": 0,\n",
       "      \"message\": {\n",
       "        \"content\": \"1. Play a game\\n2. Listen to music\\n3. Get a recipe for dinner\\n4. Read a book\\n5. Watch a movie\\n6. Learn a new language\\n7. Take a walk or exercise\\n8. Plan a trip\\n9. Do some shopping online\\n10. Practice meditation or yoga.\",\n",
       "        \"role\": \"assistant\"\n",
       "      }\n",
       "    }\n",
       "  ],\n",
       "  \"created\": 1685123699,\n",
       "  \"id\": \"chatcmpl-7KVwREOcjL2a3Q0psscvG461gABrw\",\n",
       "  \"model\": \"gpt-3.5-turbo-0301\",\n",
       "  \"object\": \"chat.completion\",\n",
       "  \"usage\": {\n",
       "    \"completion_tokens\": 67,\n",
       "    \"prompt_tokens\": 17,\n",
       "    \"total_tokens\": 84\n",
       "  }\n",
       "}"
      ]
     },
     "execution_count": 24,
     "metadata": {},
     "output_type": "execute_result"
    }
   ],
   "source": [
    "response"
   ]
  },
  {
   "cell_type": "code",
   "execution_count": 26,
   "id": "b3bd4f36",
   "metadata": {},
   "outputs": [
    {
     "name": "stdout",
     "output_type": "stream",
     "text": [
      "1. Play a game\n",
      "2. Listen to music\n",
      "3. Get a recipe for dinner\n",
      "4. Read a book\n",
      "5. Watch a movie\n",
      "6. Learn a new language\n",
      "7. Take a walk or exercise\n",
      "8. Plan a trip\n",
      "9. Do some shopping online\n",
      "10. Practice meditation or yoga.\n"
     ]
    }
   ],
   "source": [
    "print(response['choices'][0]['message']['content'])"
   ]
  },
  {
   "cell_type": "code",
   "execution_count": 27,
   "id": "988e3356",
   "metadata": {},
   "outputs": [],
   "source": [
    "response = openai.ChatCompletion.create(\n",
    "  model=\"gpt-3.5-turbo\",\n",
    "  messages=[\n",
    "        {\"role\": \"user\", \"content\": \"9\"},\n",
    "    ]\n",
    ")"
   ]
  },
  {
   "cell_type": "code",
   "execution_count": 28,
   "id": "4621f7cd",
   "metadata": {},
   "outputs": [
    {
     "name": "stdout",
     "output_type": "stream",
     "text": [
      "I am sorry, but your question or statement is incomplete. Can you please provide more information or context for me to understand what you are referring to?\n"
     ]
    }
   ],
   "source": [
    "print(response['choices'][0]['message']['content'])"
   ]
  },
  {
   "cell_type": "code",
   "execution_count": null,
   "id": "f7a66dfc",
   "metadata": {},
   "outputs": [],
   "source": [
    "response = openai.ChatCompletion.create(\n",
    "  model=\"gpt-3.5-turbo\",\n",
    "  messages=[\n",
    "        {\"role\": \"user\", \"content\": \"I choose to do active 9 Do some shopping online\"},\n",
    "    ]\n",
    ")"
   ]
  },
  {
   "cell_type": "code",
   "execution_count": null,
   "id": "7c3e074b",
   "metadata": {},
   "outputs": [],
   "source": [
    "print(response['choices'][0]['message']['content'])"
   ]
  },
  {
   "cell_type": "code",
   "execution_count": null,
   "id": "3f3e4c3f",
   "metadata": {},
   "outputs": [],
   "source": [
    "response"
   ]
  },
  {
   "cell_type": "code",
   "execution_count": null,
   "id": "5e873f16",
   "metadata": {},
   "outputs": [],
   "source": []
  }
 ],
 "metadata": {
  "kernelspec": {
   "display_name": "Python 3 (ipykernel)",
   "language": "python",
   "name": "python3"
  },
  "language_info": {
   "codemirror_mode": {
    "name": "ipython",
    "version": 3
   },
   "file_extension": ".py",
   "mimetype": "text/x-python",
   "name": "python",
   "nbconvert_exporter": "python",
   "pygments_lexer": "ipython3",
   "version": "3.11.3"
  }
 },
 "nbformat": 4,
 "nbformat_minor": 5
}
